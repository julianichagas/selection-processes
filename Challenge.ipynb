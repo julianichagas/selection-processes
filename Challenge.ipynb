{
 "cells": [
  {
   "cell_type": "markdown",
   "id": "b0ea33f1",
   "metadata": {},
   "source": [
    "# SQL Test"
   ]
  },
  {
   "cell_type": "markdown",
   "id": "e0524548",
   "metadata": {},
   "source": [
    "### Imports and configurations"
   ]
  },
  {
   "cell_type": "code",
   "execution_count": 2,
   "id": "7e7f2bab",
   "metadata": {},
   "outputs": [],
   "source": [
    "# Disable warnings\n",
    "import warnings\n",
    "\n",
    "def fxn():\n",
    "    warnings.warn(\"deprecated\", DeprecationWarning)\n",
    "\n",
    "with warnings.catch_warnings():\n",
    "    warnings.simplefilter(\"ignore\")\n",
    "    fxn()\n",
    "    \n",
    "# Libraries\n",
    "import mysql.connector\n",
    "import pandas as pd\n",
    "\n",
    "# MySQL Connection\n",
    "import config_file\n",
    "config = config_file\n",
    "\n",
    "db = mysql.connector.connect(\n",
    "    host = config.host,\n",
    "    user = config.user,\n",
    "    passwd = config.passwd,\n",
    "    database = config.database)\n",
    "\n",
    "cursor = db.cursor()\n",
    "\n",
    "# Pandas format float decimal places\n",
    "pd.options.display.float_format = '{:,.2f}'.format\n",
    "\n",
    "# Load R magic\n",
    "%load_ext rpy2.ipython\n",
    "\n",
    "# R libraries\n",
    "%R library(tidyverse)"
   ]
  },
  {
   "cell_type": "markdown",
   "id": "f4197577",
   "metadata": {},
   "source": [
    "### What are the 10 most expensive products in the company?"
   ]
  },
  {
   "cell_type": "markdown",
   "id": "22033035",
   "metadata": {},
   "source": [
    "**Solution**: The top 10 expensive products are listed below. The list include items like Whisky, Champagne and others."
   ]
  },
  {
   "cell_type": "code",
   "execution_count": 3,
   "id": "539535b7",
   "metadata": {
    "code_folding": []
   },
   "outputs": [
    {
     "data": {
      "text/html": [
       "<div>\n",
       "<style scoped>\n",
       "    .dataframe tbody tr th:only-of-type {\n",
       "        vertical-align: middle;\n",
       "    }\n",
       "\n",
       "    .dataframe tbody tr th {\n",
       "        vertical-align: top;\n",
       "    }\n",
       "\n",
       "    .dataframe thead th {\n",
       "        text-align: right;\n",
       "    }\n",
       "</style>\n",
       "<table border=\"1\" class=\"dataframe\">\n",
       "  <thead>\n",
       "    <tr style=\"text-align: right;\">\n",
       "      <th>Code</th>\n",
       "      <th>Product Description</th>\n",
       "      <th>Price</th>\n",
       "    </tr>\n",
       "  </thead>\n",
       "  <tbody>\n",
       "    <tr>\n",
       "      <th>301409</th>\n",
       "      <td>Whisky Escoces THE MACALLAN Ruby Garrafa 700ml...</td>\n",
       "      <td>741.99</td>\n",
       "    </tr>\n",
       "    <tr>\n",
       "      <th>176185</th>\n",
       "      <td>Whisky Escoces JOHNNIE WALKER Blue Label Garra...</td>\n",
       "      <td>735.90</td>\n",
       "    </tr>\n",
       "    <tr>\n",
       "      <th>315481</th>\n",
       "      <td>Cafeteira Expresso 3 CORACOES Tres Modo Vermelho</td>\n",
       "      <td>499.00</td>\n",
       "    </tr>\n",
       "    <tr>\n",
       "      <th>100280</th>\n",
       "      <td>Vinho Portugues Tinto Vintage QUINTA DO CRASTO...</td>\n",
       "      <td>445.90</td>\n",
       "    </tr>\n",
       "    <tr>\n",
       "      <th>320046</th>\n",
       "      <td>Escova Dental Eletrica ORAL B D34 Professional...</td>\n",
       "      <td>399.90</td>\n",
       "    </tr>\n",
       "    <tr>\n",
       "      <th>190817</th>\n",
       "      <td>Champagne Rose VEUVE CLICQUOT PONSARDIM Garraf...</td>\n",
       "      <td>366.90</td>\n",
       "    </tr>\n",
       "    <tr>\n",
       "      <th>153795</th>\n",
       "      <td>Champagne Frances Brut Imperial MOET Rose Garr...</td>\n",
       "      <td>359.90</td>\n",
       "    </tr>\n",
       "    <tr>\n",
       "      <th>311397</th>\n",
       "      <td>Conjunto de Panelas Allegra em Inox TRAMONTINA...</td>\n",
       "      <td>359.00</td>\n",
       "    </tr>\n",
       "    <tr>\n",
       "      <th>147706</th>\n",
       "      <td>Whisky Escoces CHIVAS REGAL 18 Anos Garrafa 750ml</td>\n",
       "      <td>329.90</td>\n",
       "    </tr>\n",
       "    <tr>\n",
       "      <th>154431</th>\n",
       "      <td>Champagne Frances Brut Imperial MOET &amp; CHANDON...</td>\n",
       "      <td>315.90</td>\n",
       "    </tr>\n",
       "  </tbody>\n",
       "</table>\n",
       "</div>"
      ],
      "text/plain": [
       "Code                                  Product Description  Price\n",
       "301409  Whisky Escoces THE MACALLAN Ruby Garrafa 700ml... 741.99\n",
       "176185  Whisky Escoces JOHNNIE WALKER Blue Label Garra... 735.90\n",
       "315481   Cafeteira Expresso 3 CORACOES Tres Modo Vermelho 499.00\n",
       "100280  Vinho Portugues Tinto Vintage QUINTA DO CRASTO... 445.90\n",
       "320046  Escova Dental Eletrica ORAL B D34 Professional... 399.90\n",
       "190817  Champagne Rose VEUVE CLICQUOT PONSARDIM Garraf... 366.90\n",
       "153795  Champagne Frances Brut Imperial MOET Rose Garr... 359.90\n",
       "311397  Conjunto de Panelas Allegra em Inox TRAMONTINA... 359.00\n",
       "147706  Whisky Escoces CHIVAS REGAL 18 Anos Garrafa 750ml 329.90\n",
       "154431  Champagne Frances Brut Imperial MOET & CHANDON... 315.90"
      ]
     },
     "execution_count": 3,
     "metadata": {},
     "output_type": "execute_result"
    }
   ],
   "source": [
    "df = pd.read_sql('''SELECT PRODUCT_COD as Code,\n",
    "                           PRODUCT_NAME as 'Product Description',\n",
    "                           PRODUCT_VAL as Price\n",
    "                    FROM data_product\n",
    "                    ORDER BY PRODUCT_VAL DESC\n",
    "                    LIMIT 10''',\n",
    "                    db, index_col=[\"Code\"])\n",
    "df.index.name = None\n",
    "df.columns.name = 'Code'\n",
    "df"
   ]
  },
  {
   "cell_type": "markdown",
   "id": "6d8159f9",
   "metadata": {},
   "source": [
    "### What sections do the 'BEBIDAS' and 'PADARIA' departments have?"
   ]
  },
  {
   "cell_type": "markdown",
   "id": "cdb87a3e",
   "metadata": {},
   "source": [
    "**Solution**: Both 'BEBIDAS' and 'PADARIA' departments have four sections each, where one of the four sections receives the same name as its department."
   ]
  },
  {
   "cell_type": "code",
   "execution_count": 4,
   "id": "3ef1becd",
   "metadata": {
    "code_folding": []
   },
   "outputs": [
    {
     "data": {
      "text/html": [
       "<div>\n",
       "<style scoped>\n",
       "    .dataframe tbody tr th:only-of-type {\n",
       "        vertical-align: middle;\n",
       "    }\n",
       "\n",
       "    .dataframe tbody tr th {\n",
       "        vertical-align: top;\n",
       "    }\n",
       "\n",
       "    .dataframe thead th {\n",
       "        text-align: right;\n",
       "    }\n",
       "</style>\n",
       "<table border=\"1\" class=\"dataframe\">\n",
       "  <thead>\n",
       "    <tr style=\"text-align: right;\">\n",
       "      <th>Section Code</th>\n",
       "      <th>Section</th>\n",
       "      <th>Department</th>\n",
       "      <th>Department Code</th>\n",
       "    </tr>\n",
       "  </thead>\n",
       "  <tbody>\n",
       "    <tr>\n",
       "      <th>4</th>\n",
       "      <td>BEBIDAS</td>\n",
       "      <td>BEBIDAS</td>\n",
       "      <td>2</td>\n",
       "    </tr>\n",
       "    <tr>\n",
       "      <th>29</th>\n",
       "      <td>CERVEJAS</td>\n",
       "      <td>BEBIDAS</td>\n",
       "      <td>2</td>\n",
       "    </tr>\n",
       "    <tr>\n",
       "      <th>30</th>\n",
       "      <td>VINHOS</td>\n",
       "      <td>BEBIDAS</td>\n",
       "      <td>2</td>\n",
       "    </tr>\n",
       "    <tr>\n",
       "      <th>31</th>\n",
       "      <td>REFRESCOS</td>\n",
       "      <td>BEBIDAS</td>\n",
       "      <td>2</td>\n",
       "    </tr>\n",
       "    <tr>\n",
       "      <th>8</th>\n",
       "      <td>DOCES-E-SOBREMESAS</td>\n",
       "      <td>PADARIA</td>\n",
       "      <td>7</td>\n",
       "    </tr>\n",
       "    <tr>\n",
       "      <th>19</th>\n",
       "      <td>PADARIA</td>\n",
       "      <td>PADARIA</td>\n",
       "      <td>7</td>\n",
       "    </tr>\n",
       "    <tr>\n",
       "      <th>22</th>\n",
       "      <td>QUEIJOS-E-FRIOS</td>\n",
       "      <td>PADARIA</td>\n",
       "      <td>7</td>\n",
       "    </tr>\n",
       "    <tr>\n",
       "      <th>27</th>\n",
       "      <td>GESTANTE</td>\n",
       "      <td>PADARIA</td>\n",
       "      <td>7</td>\n",
       "    </tr>\n",
       "  </tbody>\n",
       "</table>\n",
       "</div>"
      ],
      "text/plain": [
       "Section Code             Section Department  Department Code\n",
       "4                        BEBIDAS    BEBIDAS                2\n",
       "29                      CERVEJAS    BEBIDAS                2\n",
       "30                        VINHOS    BEBIDAS                2\n",
       "31                     REFRESCOS    BEBIDAS                2\n",
       "8             DOCES-E-SOBREMESAS    PADARIA                7\n",
       "19                       PADARIA    PADARIA                7\n",
       "22               QUEIJOS-E-FRIOS    PADARIA                7\n",
       "27                      GESTANTE    PADARIA                7"
      ]
     },
     "execution_count": 4,
     "metadata": {},
     "output_type": "execute_result"
    }
   ],
   "source": [
    "df = pd.read_sql('''SELECT DISTINCT\n",
    "                        SECTION_COD AS 'Section Code',\n",
    "                        SECTION_NAME AS Section,\n",
    "                        DEP_NAME AS Department,\n",
    "                        DEP_COD AS 'Department Code'\n",
    "                    FROM data_product\n",
    "                    WHERE DEP_NAME = 'BEBIDAS'\n",
    "                       OR DEP_NAME = 'PADARIA'\n",
    "                    ORDER BY DEP_NAME''',\n",
    "                    db, index_col = ['Section Code'])\n",
    "df.index.name = None\n",
    "df.columns.name = 'Section Code'\n",
    "df"
   ]
  },
  {
   "cell_type": "markdown",
   "id": "51286de8",
   "metadata": {},
   "source": [
    "### What was the total sale of products (in $) of each Business Area in the first quarter of 2019?"
   ]
  },
  {
   "cell_type": "markdown",
   "id": "26350a46",
   "metadata": {},
   "source": [
    "**Solution**: Business areas sold more than 80 million in the first quarter of 2019, except Posto, which sold just over 32 million."
   ]
  },
  {
   "cell_type": "code",
   "execution_count": 5,
   "id": "333c29ee",
   "metadata": {},
   "outputs": [
    {
     "data": {
      "text/html": [
       "<div>\n",
       "<style scoped>\n",
       "    .dataframe tbody tr th:only-of-type {\n",
       "        vertical-align: middle;\n",
       "    }\n",
       "\n",
       "    .dataframe tbody tr th {\n",
       "        vertical-align: top;\n",
       "    }\n",
       "\n",
       "    .dataframe thead th {\n",
       "        text-align: right;\n",
       "    }\n",
       "</style>\n",
       "<table border=\"1\" class=\"dataframe\">\n",
       "  <thead>\n",
       "    <tr style=\"text-align: right;\">\n",
       "      <th>Business Code</th>\n",
       "      <th>Business Area</th>\n",
       "      <th>Total Sales ($) - Q1/2019</th>\n",
       "    </tr>\n",
       "  </thead>\n",
       "  <tbody>\n",
       "    <tr>\n",
       "      <th>1</th>\n",
       "      <td>Varejo</td>\n",
       "      <td>81,032,347.65</td>\n",
       "    </tr>\n",
       "    <tr>\n",
       "      <th>2</th>\n",
       "      <td>Proximidade</td>\n",
       "      <td>80,171,122.80</td>\n",
       "    </tr>\n",
       "    <tr>\n",
       "      <th>3</th>\n",
       "      <td>Posto</td>\n",
       "      <td>32,072,326.40</td>\n",
       "    </tr>\n",
       "    <tr>\n",
       "      <th>4</th>\n",
       "      <td>Farma</td>\n",
       "      <td>81,776,691.73</td>\n",
       "    </tr>\n",
       "    <tr>\n",
       "      <th>5</th>\n",
       "      <td>Atacado</td>\n",
       "      <td>80,384,884.60</td>\n",
       "    </tr>\n",
       "  </tbody>\n",
       "</table>\n",
       "</div>"
      ],
      "text/plain": [
       "Business Code Business Area  Total Sales ($) - Q1/2019\n",
       "1                    Varejo              81,032,347.65\n",
       "2               Proximidade              80,171,122.80\n",
       "3                     Posto              32,072,326.40\n",
       "4                     Farma              81,776,691.73\n",
       "5                   Atacado              80,384,884.60"
      ]
     },
     "execution_count": 5,
     "metadata": {},
     "output_type": "execute_result"
    }
   ],
   "source": [
    "df = pd.read_sql('''SELECT DSC.BUSINESS_CODE AS 'Business Code',\n",
    "                           DSC.BUSINESS_NAME AS 'Business Area',\n",
    "                           SUM(DSS.SALES_VALUE) AS 'Total Sales ($) - Q1/2019'\n",
    "                    FROM data_store_cad as DSC,\n",
    "                         data_store_sales AS DSS\n",
    "                    WHERE QUARTER(DSS.DATE) = 1\n",
    "                      AND YEAR(DSS.DATE) = 2019\n",
    "                      AND DSC.STORE_CODE = DSS.STORE_CODE\n",
    "                    GROUP BY DSC.BUSINESS_CODE, DSC.BUSINESS_NAME''',\n",
    "                    db, index_col = ['Business Code'])\n",
    "df.index.name = None\n",
    "df.columns.name = 'Business Code'\n",
    "df"
   ]
  },
  {
   "cell_type": "markdown",
   "id": "d681bd8f",
   "metadata": {},
   "source": [
    "# Cases"
   ]
  },
  {
   "cell_type": "markdown",
   "id": "ea4a65a6",
   "metadata": {},
   "source": [
    "## 1) The Dev Team was tired of developing the same old queries just varying the filters accordingly to their boss demands."
   ]
  },
  {
   "cell_type": "markdown",
   "id": "5a4825f5",
   "metadata": {},
   "source": [
    "As a new member of the crew, your mission now is to create a dynamic function, on the most flexible of ways, to produce queries and retrieve a dataframe based on three parameters:\n",
    "\n",
    "* product_code: integer\n",
    "\n",
    "* store_code: integer\n",
    "\n",
    "* date: list of ISO-like strings\n",
    "\n",
    "* Date e.g.\n",
    "\n",
    " * ['2019-01-01', '2019-01-31'] → Python\n",
    "\n",
    " * c('2019-01-01', '2019-01-31') → R\n",
    "\n",
    "It should look like this my_data = retrieve_data(product_code, store_code, date)\n",
    "\n",
    "Make your team proud!\n",
    "\n",
    "Extra instructions: Retrieve all columns from table data_product_sales."
   ]
  },
  {
   "cell_type": "markdown",
   "id": "587007b1",
   "metadata": {},
   "source": [
    "### Solution"
   ]
  },
  {
   "cell_type": "code",
   "execution_count": 6,
   "id": "98372b40",
   "metadata": {},
   "outputs": [],
   "source": [
    "# retrieve_data function definition\n",
    "def retrieve_data(product_code, store_code, date):\n",
    "    \n",
    "    # Check correct data format for product_code, store_code and date\n",
    "    try:\n",
    "        # Specify the message error to be displayed, if error occurs.\n",
    "        error = \"Please insert a valid Product Code number. Message: \"\n",
    "        product_code = int(product_code)\n",
    "        \n",
    "        error = \"Please insert a valid Store Code number. Message: \"\n",
    "        store_code = int(store_code)\n",
    "        \n",
    "        error = '''Please insert a string, list or tuple of formated date.\n",
    "                Correct format: yyyy-mm-dd.'''\n",
    "        if type(date) == list:\n",
    "            date = tuple(i for i in date)\n",
    "            error = \"An error has occurred: \"\n",
    "        elif type(date) == str:\n",
    "            date = (date,'')\n",
    "            error = \"An error has occurred: \"\n",
    "        elif type(date) == tuple:\n",
    "            error = \"An error has occurred: \"\n",
    "        else:\n",
    "            return error\n",
    "            \n",
    "        # Try to execute Query\n",
    "        try:\n",
    "            cursor.execute(\"\"\"\n",
    "                SELECT * FROM data_product_sales\n",
    "                WHERE PRODUCT_CODE = %(product_code)s\n",
    "                  AND STORE_CODE = %(store_code)s\n",
    "                  AND DATE IN {}\n",
    "                \"\"\".format(date),\n",
    "                {'product_code': product_code,\n",
    "                 'store_code' : store_code})\n",
    "            \n",
    "            # Save query return into DataFrame\n",
    "            df = pd.DataFrame(cursor.fetchall())\n",
    "            \n",
    "            # If DataFrame is not empty, get columns names and\n",
    "            # applies them into the generated DataFrame.\n",
    "            if df.empty:\n",
    "                return \"No results.\"\n",
    "            else:\n",
    "                # Return DataFrame\n",
    "                df.columns = cursor.column_names\n",
    "                return df\n",
    "        \n",
    "        # Display error message\n",
    "        except Exception as e:\n",
    "            print(error,e)\n",
    "\n",
    "    except Exception as e:\n",
    "        print(error,e)"
   ]
  },
  {
   "cell_type": "markdown",
   "id": "f39582df",
   "metadata": {},
   "source": [
    "Function characteristics:\n",
    "* Checks the correct data type for all three parameters entries;\n",
    "* Converts float into integer;\n",
    "* Can receive either a string, list or tuple in \"Date\" type;\n",
    "* Displays error messages if necessary.\n",
    "* Prevents SQL Injection\n",
    "\n",
    "An example of the function working:"
   ]
  },
  {
   "cell_type": "code",
   "execution_count": 7,
   "id": "3bbd9c5f",
   "metadata": {},
   "outputs": [
    {
     "data": {
      "text/html": [
       "<div>\n",
       "<style scoped>\n",
       "    .dataframe tbody tr th:only-of-type {\n",
       "        vertical-align: middle;\n",
       "    }\n",
       "\n",
       "    .dataframe tbody tr th {\n",
       "        vertical-align: top;\n",
       "    }\n",
       "\n",
       "    .dataframe thead th {\n",
       "        text-align: right;\n",
       "    }\n",
       "</style>\n",
       "<table border=\"1\" class=\"dataframe\">\n",
       "  <thead>\n",
       "    <tr style=\"text-align: right;\">\n",
       "      <th></th>\n",
       "      <th>STORE_CODE</th>\n",
       "      <th>PRODUCT_CODE</th>\n",
       "      <th>DATE</th>\n",
       "      <th>SALES_VALUE</th>\n",
       "      <th>SALES_QTY</th>\n",
       "    </tr>\n",
       "  </thead>\n",
       "  <tbody>\n",
       "    <tr>\n",
       "      <th>0</th>\n",
       "      <td>1</td>\n",
       "      <td>18</td>\n",
       "      <td>2019-01-01</td>\n",
       "      <td>708.50</td>\n",
       "      <td>65</td>\n",
       "    </tr>\n",
       "    <tr>\n",
       "      <th>1</th>\n",
       "      <td>1</td>\n",
       "      <td>18</td>\n",
       "      <td>2019-01-02</td>\n",
       "      <td>1297.10</td>\n",
       "      <td>119</td>\n",
       "    </tr>\n",
       "    <tr>\n",
       "      <th>2</th>\n",
       "      <td>1</td>\n",
       "      <td>18</td>\n",
       "      <td>2019-01-04</td>\n",
       "      <td>1090.00</td>\n",
       "      <td>100</td>\n",
       "    </tr>\n",
       "    <tr>\n",
       "      <th>3</th>\n",
       "      <td>1</td>\n",
       "      <td>18</td>\n",
       "      <td>2019-01-07</td>\n",
       "      <td>654.00</td>\n",
       "      <td>60</td>\n",
       "    </tr>\n",
       "  </tbody>\n",
       "</table>\n",
       "</div>"
      ],
      "text/plain": [
       "  STORE_CODE  PRODUCT_CODE        DATE SALES_VALUE SALES_QTY\n",
       "0          1            18  2019-01-01      708.50        65\n",
       "1          1            18  2019-01-02     1297.10       119\n",
       "2          1            18  2019-01-04     1090.00       100\n",
       "3          1            18  2019-01-07      654.00        60"
      ]
     },
     "execution_count": 7,
     "metadata": {},
     "output_type": "execute_result"
    }
   ],
   "source": [
    "# Example\n",
    "product_code = 18\n",
    "store_code = '1'\n",
    "date = ['2019-01-01','2019-01-02','2019-01-04','2019-01-07','2000-01-07']\n",
    "retrieve_data(product_code, store_code, date)"
   ]
  },
  {
   "cell_type": "code",
   "execution_count": 8,
   "id": "a6030058",
   "metadata": {},
   "outputs": [
    {
     "name": "stdout",
     "output_type": "stream",
     "text": [
      "Please insert a valid Product Code number. Message:  invalid literal for int() with base 10: 'text'\n"
     ]
    }
   ],
   "source": [
    "# Example of error message:\n",
    "product_code = 'text'\n",
    "retrieve_data(product_code, store_code, date)"
   ]
  },
  {
   "cell_type": "markdown",
   "id": "cab570da",
   "metadata": {},
   "source": [
    "## 2) A brand new client sent you two ready-to-go queries. Those are listed below:"
   ]
  },
  {
   "cell_type": "markdown",
   "id": "1800aa46",
   "metadata": {},
   "source": [
    "Query 1:"
   ]
  },
  {
   "cell_type": "code",
   "execution_count": 9,
   "id": "d8522030",
   "metadata": {},
   "outputs": [],
   "source": [
    "# Execute the received ready-to-go queries and save results into DataFrames\n",
    "\n",
    "data_store_cad = pd.read_sql('''\n",
    "\n",
    "SELECT STORE_CODE,\n",
    "       STORE_NAME,\n",
    "       START_DATE,\n",
    "       END_DATE,\n",
    "       BUSINESS_NAME,\n",
    "       BUSINESS_CODE\n",
    "FROM data_store_cad\n",
    "\n",
    "''', db, index_col = ['STORE_CODE'])"
   ]
  },
  {
   "cell_type": "markdown",
   "id": "328d0012",
   "metadata": {},
   "source": [
    "Query 2:"
   ]
  },
  {
   "cell_type": "code",
   "execution_count": 10,
   "id": "c56817bf",
   "metadata": {},
   "outputs": [],
   "source": [
    "data_store_sales = pd.read_sql('''\n",
    "\n",
    "SELECT STORE_CODE,\n",
    "       DATE,\n",
    "       SALES_VALUE,\n",
    "       SALES_QTY\n",
    "FROM data_store_sales\n",
    "WHERE DATE BETWEEN '2019-01-01' AND '2019-12-31'\n",
    "\n",
    "''', db, index_col = ['STORE_CODE'])"
   ]
  },
  {
   "cell_type": "markdown",
   "id": "d1932c36",
   "metadata": {},
   "source": [
    "In addition, he gave you this set of instructions:\n",
    "\n",
    "* You must not modify my queries!\n",
    "\n",
    "* Please filter the period between this given range:\n",
    "\n",
    " * ['2019-10-01','2019-12-31']"
   ]
  },
  {
   "cell_type": "markdown",
   "id": "fde18607",
   "metadata": {},
   "source": [
    "### Solution"
   ]
  },
  {
   "cell_type": "markdown",
   "id": "1b3a9dcf",
   "metadata": {},
   "source": [
    "#### Data preparation"
   ]
  },
  {
   "cell_type": "markdown",
   "id": "5c037250",
   "metadata": {},
   "source": [
    "Before filtering the period on the given range, merge and data type conversion is performed in the obtained data. Then, a function that applies the wanted filter is defined. "
   ]
  },
  {
   "cell_type": "code",
   "execution_count": 11,
   "id": "1deeec12",
   "metadata": {
    "code_folding": []
   },
   "outputs": [],
   "source": [
    "# Merge the two DataFrames generated from SQL queries into one.\n",
    "data_store = pd.merge(data_store_cad,data_store_sales,\n",
    "                      how='outer',\n",
    "                      on=['STORE_CODE'])\n",
    "\n",
    "# Convert Date data type into datetime\n",
    "data_store['START_DATE'] = pd.to_datetime(data_store.START_DATE)\n",
    "data_store['END_DATE'] = pd.to_datetime(data_store.END_DATE)\n",
    "data_store['DATE'] = pd.to_datetime(data_store.DATE)\n",
    "\n",
    "# Create function that returns TM by range of dates\n",
    "def TM_Period(start,end):\n",
    "    # Filter between range of dates, Sales Values and Quantities sum,\n",
    "    # group by Store Name and Business\n",
    "    tm = data_store[(data_store['DATE'] >= start) &\n",
    "                    (data_store['DATE'] <= end)].groupby(\n",
    "                    ['STORE_NAME',\n",
    "                     'BUSINESS_NAME']\n",
    "                    )[['SALES_VALUE',\n",
    "                       'SALES_QTY']].sum().reset_index()\n",
    "    # Calculate TM\n",
    "    tm['TM'] = tm['SALES_VALUE'] / tm['SALES_QTY']\n",
    "    \n",
    "    # Define how the result should be displayed\n",
    "    tm = tm[['STORE_NAME',\n",
    "             'BUSINESS_NAME',\n",
    "             'TM']].rename(\n",
    "                    columns={'STORE_NAME': 'Loja',\n",
    "                             'BUSINESS_NAME': 'Categoria'})\n",
    "    return tm"
   ]
  },
  {
   "cell_type": "markdown",
   "id": "bd4a1ced",
   "metadata": {},
   "source": [
    "#### TM filtered by period"
   ]
  },
  {
   "cell_type": "markdown",
   "id": "1bdca897",
   "metadata": {},
   "source": [
    "After data is seted up, the section below calls the filter on the requested date and returns the TM by Store and Business."
   ]
  },
  {
   "cell_type": "code",
   "execution_count": 12,
   "id": "df6de4ba",
   "metadata": {
    "code_folding": []
   },
   "outputs": [
    {
     "data": {
      "text/html": [
       "<div>\n",
       "<style scoped>\n",
       "    .dataframe tbody tr th:only-of-type {\n",
       "        vertical-align: middle;\n",
       "    }\n",
       "\n",
       "    .dataframe tbody tr th {\n",
       "        vertical-align: top;\n",
       "    }\n",
       "\n",
       "    .dataframe thead th {\n",
       "        text-align: right;\n",
       "    }\n",
       "</style>\n",
       "<table border=\"1\" class=\"dataframe\">\n",
       "  <thead>\n",
       "    <tr style=\"text-align: right;\">\n",
       "      <th></th>\n",
       "      <th>Loja</th>\n",
       "      <th>Categoria</th>\n",
       "      <th>TM</th>\n",
       "    </tr>\n",
       "  </thead>\n",
       "  <tbody>\n",
       "    <tr>\n",
       "      <th>0</th>\n",
       "      <td>Bahia</td>\n",
       "      <td>Atacado</td>\n",
       "      <td>15.39</td>\n",
       "    </tr>\n",
       "    <tr>\n",
       "      <th>1</th>\n",
       "      <td>Bangkok</td>\n",
       "      <td>Posto</td>\n",
       "      <td>13.67</td>\n",
       "    </tr>\n",
       "    <tr>\n",
       "      <th>2</th>\n",
       "      <td>Belem</td>\n",
       "      <td>Proximidade</td>\n",
       "      <td>15.37</td>\n",
       "    </tr>\n",
       "    <tr>\n",
       "      <th>3</th>\n",
       "      <td>Berlin</td>\n",
       "      <td>Proximidade</td>\n",
       "      <td>15.39</td>\n",
       "    </tr>\n",
       "    <tr>\n",
       "      <th>4</th>\n",
       "      <td>Buenos Aires</td>\n",
       "      <td>Atacado</td>\n",
       "      <td>15.39</td>\n",
       "    </tr>\n",
       "    <tr>\n",
       "      <th>5</th>\n",
       "      <td>Chicago</td>\n",
       "      <td>Varejo</td>\n",
       "      <td>15.53</td>\n",
       "    </tr>\n",
       "    <tr>\n",
       "      <th>6</th>\n",
       "      <td>Dubai</td>\n",
       "      <td>Atacado</td>\n",
       "      <td>15.39</td>\n",
       "    </tr>\n",
       "    <tr>\n",
       "      <th>7</th>\n",
       "      <td>Hong Kong</td>\n",
       "      <td>Farma</td>\n",
       "      <td>26.35</td>\n",
       "    </tr>\n",
       "    <tr>\n",
       "      <th>8</th>\n",
       "      <td>London</td>\n",
       "      <td>Farma</td>\n",
       "      <td>28.99</td>\n",
       "    </tr>\n",
       "    <tr>\n",
       "      <th>9</th>\n",
       "      <td>Madri</td>\n",
       "      <td>Farma</td>\n",
       "      <td>29.03</td>\n",
       "    </tr>\n",
       "    <tr>\n",
       "      <th>10</th>\n",
       "      <td>Miami</td>\n",
       "      <td>Posto</td>\n",
       "      <td>13.67</td>\n",
       "    </tr>\n",
       "    <tr>\n",
       "      <th>11</th>\n",
       "      <td>New York</td>\n",
       "      <td>Proximidade</td>\n",
       "      <td>15.39</td>\n",
       "    </tr>\n",
       "    <tr>\n",
       "      <th>12</th>\n",
       "      <td>Paris</td>\n",
       "      <td>Proximidade</td>\n",
       "      <td>15.39</td>\n",
       "    </tr>\n",
       "    <tr>\n",
       "      <th>13</th>\n",
       "      <td>Rio de Janeiro</td>\n",
       "      <td>Farma</td>\n",
       "      <td>29.59</td>\n",
       "    </tr>\n",
       "    <tr>\n",
       "      <th>14</th>\n",
       "      <td>Roma</td>\n",
       "      <td>Varejo</td>\n",
       "      <td>15.39</td>\n",
       "    </tr>\n",
       "    <tr>\n",
       "      <th>15</th>\n",
       "      <td>Salvador</td>\n",
       "      <td>Atacado</td>\n",
       "      <td>15.39</td>\n",
       "    </tr>\n",
       "    <tr>\n",
       "      <th>16</th>\n",
       "      <td>Sao Paulo</td>\n",
       "      <td>Varejo</td>\n",
       "      <td>15.39</td>\n",
       "    </tr>\n",
       "    <tr>\n",
       "      <th>17</th>\n",
       "      <td>Sidney</td>\n",
       "      <td>Posto</td>\n",
       "      <td>13.67</td>\n",
       "    </tr>\n",
       "    <tr>\n",
       "      <th>18</th>\n",
       "      <td>Tokio</td>\n",
       "      <td>Varejo</td>\n",
       "      <td>15.39</td>\n",
       "    </tr>\n",
       "    <tr>\n",
       "      <th>19</th>\n",
       "      <td>Vancouver</td>\n",
       "      <td>Posto</td>\n",
       "      <td>13.67</td>\n",
       "    </tr>\n",
       "  </tbody>\n",
       "</table>\n",
       "</div>"
      ],
      "text/plain": [
       "              Loja    Categoria    TM\n",
       "0            Bahia      Atacado 15.39\n",
       "1          Bangkok        Posto 13.67\n",
       "2            Belem  Proximidade 15.37\n",
       "3           Berlin  Proximidade 15.39\n",
       "4     Buenos Aires      Atacado 15.39\n",
       "5          Chicago       Varejo 15.53\n",
       "6            Dubai      Atacado 15.39\n",
       "7        Hong Kong        Farma 26.35\n",
       "8           London        Farma 28.99\n",
       "9            Madri        Farma 29.03\n",
       "10           Miami        Posto 13.67\n",
       "11        New York  Proximidade 15.39\n",
       "12           Paris  Proximidade 15.39\n",
       "13  Rio de Janeiro        Farma 29.59\n",
       "14            Roma       Varejo 15.39\n",
       "15        Salvador      Atacado 15.39\n",
       "16       Sao Paulo       Varejo 15.39\n",
       "17          Sidney        Posto 13.67\n",
       "18           Tokio       Varejo 15.39\n",
       "19       Vancouver        Posto 13.67"
      ]
     },
     "execution_count": 12,
     "metadata": {},
     "output_type": "execute_result"
    }
   ],
   "source": [
    "# The range date filter can be easily changed in the function below\n",
    "# if the consultation of a different period is needed in the future\n",
    "TM_Period('2019-10-01','2019-12-31')"
   ]
  },
  {
   "cell_type": "markdown",
   "id": "6d87fb9f",
   "metadata": {},
   "source": [
    "## 3) Building your own visualization"
   ]
  },
  {
   "cell_type": "markdown",
   "id": "680e8a88",
   "metadata": {},
   "source": [
    "Create at least one chart using the table IMDB_movies. The code must be in R or Python, and you are free to use any libraries, data in the table and graphic format. Explain why you chose the visualization (or visualizations) you are submitting."
   ]
  },
  {
   "cell_type": "markdown",
   "id": "7d531fd0",
   "metadata": {},
   "source": [
    "### Solution"
   ]
  },
  {
   "cell_type": "markdown",
   "id": "f1dffeaf",
   "metadata": {},
   "source": [
    "**This analysis aims to better understand which factors favor the revenue of a movie.**"
   ]
  },
  {
   "cell_type": "markdown",
   "id": "069ed26f",
   "metadata": {},
   "source": [
    "**Questions**:\n",
    "* Is revenue related to metascore?\n",
    "* Are some genres more profitable than others?"
   ]
  },
  {
   "cell_type": "markdown",
   "id": "1eb3cebd",
   "metadata": {},
   "source": [
    "##### Data Preparation"
   ]
  },
  {
   "cell_type": "code",
   "execution_count": 13,
   "id": "fb079f8c",
   "metadata": {},
   "outputs": [
    {
     "name": "stdout",
     "output_type": "stream",
     "text": [
      "Missing Values:\n",
      " Title                0\n",
      "Genre                0\n",
      "Director             0\n",
      "Actors               0\n",
      "Year                 0\n",
      "Runtime              0\n",
      "Rating               0\n",
      "Votes                0\n",
      "RevenueMillions    128\n",
      "Metascore           64\n",
      "dtype: int64\n",
      "\n",
      "Duplicated Values:  0\n"
     ]
    }
   ],
   "source": [
    "# Collect data\n",
    "IMDB_movies = pd.read_sql(\"SELECT * FROM IMDB_movies\", db, index_col = ['Id'])\n",
    "\n",
    "# Check Missing values and duplicates\n",
    "print(\"Missing Values:\\n\", IMDB_movies.isnull().sum())\n",
    "print(\"\\nDuplicated Values: \",IMDB_movies.duplicated().sum())"
   ]
  },
  {
   "cell_type": "markdown",
   "id": "a940c210",
   "metadata": {},
   "source": [
    "**Note:** This section is written in R language.\n",
    "\n",
    "'%R' and '%%R' allows R language to be interpreted in a Python notebook."
   ]
  },
  {
   "cell_type": "code",
   "execution_count": 14,
   "id": "3513ace0",
   "metadata": {},
   "outputs": [],
   "source": [
    "%R -i IMDB_movies\n",
    "# Gets DataFrame variable from Python and stores it in R"
   ]
  },
  {
   "cell_type": "markdown",
   "id": "f983dfb7",
   "metadata": {},
   "source": [
    "In the next step, a new data frame is generated. The new data has the 'Genre' content splited in different rows and rows with null values ignored."
   ]
  },
  {
   "cell_type": "code",
   "execution_count": 15,
   "id": "4f854960",
   "metadata": {},
   "outputs": [],
   "source": [
    "%%R\n",
    "# Split multivalued genres names stored in 'Genre' column.\n",
    "Genre_movies <- separate_rows(IMDB_movies,Genre,sep = ',') %>%\n",
    "    filter(!is.na(Metascore)) %>%\n",
    "    filter(!is.na(RevenueMillions))"
   ]
  },
  {
   "cell_type": "markdown",
   "id": "b8ebea76",
   "metadata": {},
   "source": [
    "#### Is metascore directly related to revenue? The higher the metascore, the higher the revenue?"
   ]
  },
  {
   "cell_type": "markdown",
   "id": "e791fb3e",
   "metadata": {},
   "source": [
    "##### Chart"
   ]
  },
  {
   "cell_type": "code",
   "execution_count": 17,
   "id": "91abeb4e",
   "metadata": {},
   "outputs": [
    {
     "name": "stderr",
     "output_type": "stream",
     "text": [
      "R[write to console]: `geom_smooth()` using formula 'y ~ x'\n",
      "\n"
     ]
    },
    {
     "data": {
      "image/png": "[encoded data removed]"
     },
     "metadata": {},
     "output_type": "display_data"
    }
   ],
   "source": [
    "%%R\n",
    "\n",
    "# Relation between Metascore and Revenue (Millions)\n",
    "ggplot(Genre_movies,\n",
    "        aes(x = Metascore,\n",
    "            y = RevenueMillions)) +\n",
    "        geom_point() +\n",
    "        geom_jitter(color = \"darkblue\",\n",
    "                    alpha = 0.4) +\n",
    "        geom_smooth(method = 'lm',\n",
    "                    se = FALSE) +\n",
    "        scale_y_log10(breaks = c(10, 20, 30)) +\n",
    "        labs(x = 'Metascore',\n",
    "             y = 'Revenue (Millions)') +\n",
    "        ggtitle('Relation between Metascore and Revenue (Millions)', 'Period: 2006-2016') +\n",
    "        theme_minimal()"
   ]
  },
  {
   "cell_type": "markdown",
   "id": "78e2be53",
   "metadata": {},
   "source": [
    "##### Conclusion"
   ]
  },
  {
   "cell_type": "markdown",
   "id": "85d1fd3c",
   "metadata": {},
   "source": [
    "Analysing the way data is spread over the graph above, it is not possible to notice a strong correlation between metascore and revenue."
   ]
  },
  {
   "cell_type": "markdown",
   "id": "13f487f0",
   "metadata": {},
   "source": [
    "#### As metascore and revenue are not strongly related, is revenue related to genres instead?"
   ]
  },
  {
   "cell_type": "markdown",
   "id": "655db554",
   "metadata": {},
   "source": [
    "##### Chart"
   ]
  },
  {
   "cell_type": "code",
   "execution_count": 18,
   "id": "62d4b5f9",
   "metadata": {},
   "outputs": [
    {
     "data": {
      "image/png": "[encoded data removed]"
     },
     "metadata": {},
     "output_type": "display_data"
    }
   ],
   "source": [
    "%%R\n",
    "\n",
    "# Revenue Boxplot by Genre\n",
    "ggplot(Genre_movies) + \n",
    "    geom_boxplot(\n",
    "        aes(x = fct_reorder(.f = Genre,\n",
    "                            .x = RevenueMillions,\n",
    "                            .fun = median,\n",
    "                            .desc = TRUE),\n",
    "            y = RevenueMillions)) +\n",
    "    theme(axis.text.x = element_text(angle = 90)) +\n",
    "    labs(x = 'Genre',\n",
    "         y = 'Revenue') +\n",
    "    ggtitle('Genres Revenue') +\n",
    "    scale_y_log10()"
   ]
  },
  {
   "cell_type": "markdown",
   "id": "f24bcb41",
   "metadata": {},
   "source": [
    "##### Conclusion"
   ]
  },
  {
   "cell_type": "markdown",
   "id": "0849407a",
   "metadata": {},
   "source": [
    "In the chart above it is possible to notice a crescent order between revenue received by differents genres.\n"
   ]
  },
  {
   "cell_type": "markdown",
   "id": "05622e74",
   "metadata": {},
   "source": [
    "#### Since there are different revenues for different genres, would there be a stronger relation between metascore and revenue for some specific genres?"
   ]
  },
  {
   "cell_type": "markdown",
   "id": "0e04438a",
   "metadata": {},
   "source": [
    "The first graph is replicated below, but this time it is separated by each genre."
   ]
  },
  {
   "cell_type": "code",
   "execution_count": 19,
   "id": "1d82e0aa",
   "metadata": {},
   "outputs": [
    {
     "name": "stderr",
     "output_type": "stream",
     "text": [
      "R[write to console]: `geom_smooth()` using formula 'y ~ x'\n",
      "\n"
     ]
    },
    {
     "data": {
      "image/png": "[encoded data removed]"
     },
     "metadata": {},
     "output_type": "display_data"
    }
   ],
   "source": [
    "%%R\n",
    "\n",
    "ggplot(Genre_movies,\n",
    "        aes(x = Metascore,\n",
    "            y = RevenueMillions)) +\n",
    "        geom_point() +\n",
    "        geom_jitter(alpha = 0.4) +\n",
    "        geom_smooth(method = 'lm',\n",
    "                    se = FALSE) +\n",
    "        scale_y_log10(breaks = c(10, 20, 30)) +\n",
    "        labs(x = 'Metascore',\n",
    "             y = 'Revenue (Millions)') +\n",
    "        ggtitle('Relation between Metascore and Revenue (Millions)',\n",
    "                'Period: 2006-2016') +\n",
    "        theme_minimal() +\n",
    "        facet_wrap(~Genre)"
   ]
  },
  {
   "cell_type": "markdown",
   "id": "ba0a9b73",
   "metadata": {},
   "source": [
    "##### Conclusion"
   ]
  },
  {
   "cell_type": "markdown",
   "id": "320bdca4",
   "metadata": {},
   "source": [
    "The relation between revenue and metascore, for some genres, is stronger, weaker or even negative.\n",
    "For genres 'Action', 'Adventure' and 'Family', for example, there's a better chance of having a good revenue if the metascore is also good. Otherwise, for 'Romance' genre it is more likely that a movie that generated high revenue has been poorly rated by critics."
   ]
  }
 ],
 "metadata": {
  "kernelspec": {
   "display_name": "Python 3 (ipykernel)",
   "language": "python",
   "name": "python3"
  },
  "language_info": {
   "codemirror_mode": {
    "name": "ipython",
    "version": 3
   },
   "file_extension": ".py",
   "mimetype": "text/x-python",
   "name": "python",
   "nbconvert_exporter": "python",
   "pygments_lexer": "ipython3",
   "version": "3.8.8"
  },
  "latex_envs": {
   "LaTeX_envs_menu_present": true,
   "autoclose": false,
   "autocomplete": true,
   "bibliofile": "biblio.bib",
   "cite_by": "apalike",
   "current_citInitial": 1,
   "eqLabelWithNumbers": true,
   "eqNumInitial": 1,
   "hotkeys": {
    "equation": "Ctrl-E",
    "itemize": "Ctrl-I"
   },
   "labels_anchors": false,
   "latex_user_defs": false,
   "report_style_numbering": false,
   "user_envs_cfg": false
  }
 },
 "nbformat": 4,
 "nbformat_minor": 5
}
